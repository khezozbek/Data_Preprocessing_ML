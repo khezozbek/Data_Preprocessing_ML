{
  "cells": [
    {
      "cell_type": "markdown",
      "source": [
        "Import"
      ],
      "metadata": {
        "id": "sKbiKjt4D4UZ"
      }
    },
    {
      "cell_type": "code",
      "execution_count": 7,
      "metadata": {
        "id": "zwFnJsE6vjf8"
      },
      "outputs": [],
      "source": [
        "import numpy as np\n",
        "import matplotlib.pyplot as plt\n",
        "import pandas as pd"
      ]
    },
    {
      "cell_type": "markdown",
      "source": [
        "Import dataset\n"
      ],
      "metadata": {
        "id": "TfHnJFHzDsPv"
      }
    },
    {
      "cell_type": "code",
      "source": [
        "dataset = pd.read_csv('data.csv')\n",
        "x = dataset.iloc[:, :-1].values\n",
        "y = dataset.iloc[:, -1].values"
      ],
      "metadata": {
        "id": "NwFj3Qn0ENYv"
      },
      "execution_count": 40,
      "outputs": []
    },
    {
      "cell_type": "code",
      "source": [
        "print(x)"
      ],
      "metadata": {
        "id": "ykgn2rB0HzSu",
        "outputId": "bfd2930e-2632-4dc4-c373-ba44c7eca46a",
        "colab": {
          "base_uri": "https://localhost:8080/"
        }
      },
      "execution_count": 41,
      "outputs": [
        {
          "output_type": "stream",
          "name": "stdout",
          "text": [
            "[['Argentina' 34.0 nan]\n",
            " ['Argentina' 31.0 1500.0]\n",
            " ['Argentina' 39.0 900.0]\n",
            " ['USA' 38.0 1100.0]\n",
            " ['USA' 30.0 1300.0]\n",
            " ['USA' nan 1000.0]\n",
            " ['Uzbekistan' 36.0 1400.0]\n",
            " ['Uzbekistan' 33.0 800.0]\n",
            " ['Uzbekistan' 35.0 1000.0]\n",
            " ['Argentina' 40.0 1250.0]\n",
            " ['Argentina' 35.0 950.0]\n",
            " ['Argentina' 37.0 1050.0]\n",
            " ['USA' 30.0 1150.0]\n",
            " ['USA' 32.0 nan]\n",
            " ['USA' 34.0 1450.0]]\n"
          ]
        }
      ]
    },
    {
      "cell_type": "code",
      "source": [
        "print(y)"
      ],
      "metadata": {
        "id": "9jKR1QZbH3dX",
        "outputId": "1a62eaa7-0707-44b6-a6dc-97b557d7b13c",
        "colab": {
          "base_uri": "https://localhost:8080/"
        }
      },
      "execution_count": 42,
      "outputs": [
        {
          "output_type": "stream",
          "name": "stdout",
          "text": [
            "['Yes' 'Yes' 'Yes' 'No' 'Yes' 'No' 'Yes' 'Yes' 'No' 'Yes' 'Yes' 'No' 'Yes'\n",
            " 'No' 'Yes']\n"
          ]
        }
      ]
    },
    {
      "cell_type": "markdown",
      "source": [
        "care missing data\n"
      ],
      "metadata": {
        "id": "I_iMmlNvLc-o"
      }
    },
    {
      "cell_type": "code",
      "source": [
        "from sklearn.impute import SimpleImputer\n",
        "imputer = SimpleImputer(missing_values=np.nan, strategy='mean')\n",
        "imputer.fit(x[:, 1:3])\n",
        "x[:, 1:3] = imputer.transform(x[:, 1:3])"
      ],
      "metadata": {
        "id": "MLvG9GwsLfk_"
      },
      "execution_count": 43,
      "outputs": []
    },
    {
      "cell_type": "code",
      "source": [
        "print(x)"
      ],
      "metadata": {
        "colab": {
          "base_uri": "https://localhost:8080/"
        },
        "id": "s78Kh0kUMcsQ",
        "outputId": "ee4fe1a4-9a91-4e46-adc1-feac559b5563"
      },
      "execution_count": 44,
      "outputs": [
        {
          "output_type": "stream",
          "name": "stdout",
          "text": [
            "[['Argentina' 34.0 1142.3076923076924]\n",
            " ['Argentina' 31.0 1500.0]\n",
            " ['Argentina' 39.0 900.0]\n",
            " ['USA' 38.0 1100.0]\n",
            " ['USA' 30.0 1300.0]\n",
            " ['USA' 34.57142857142857 1000.0]\n",
            " ['Uzbekistan' 36.0 1400.0]\n",
            " ['Uzbekistan' 33.0 800.0]\n",
            " ['Uzbekistan' 35.0 1000.0]\n",
            " ['Argentina' 40.0 1250.0]\n",
            " ['Argentina' 35.0 950.0]\n",
            " ['Argentina' 37.0 1050.0]\n",
            " ['USA' 30.0 1150.0]\n",
            " ['USA' 32.0 1142.3076923076924]\n",
            " ['USA' 34.0 1450.0]]\n"
          ]
        }
      ]
    },
    {
      "cell_type": "markdown",
      "source": [
        "encode\n"
      ],
      "metadata": {
        "id": "Aq4IR8HlTZYG"
      }
    },
    {
      "cell_type": "code",
      "source": [
        "from sklearn.compose import ColumnTransformer\n",
        "from sklearn.preprocessing import OneHotEncoder\n",
        "\n",
        "ct = ColumnTransformer(transformers=[('encoder', OneHotEncoder(), [0])], remainder=\"passthrough\")\n",
        "X = np.array(ct.fit_transform(x))\n"
      ],
      "metadata": {
        "id": "XpVQi13TTaz7"
      },
      "execution_count": 45,
      "outputs": []
    },
    {
      "cell_type": "code",
      "source": [
        "print(X)"
      ],
      "metadata": {
        "colab": {
          "base_uri": "https://localhost:8080/"
        },
        "id": "9AOUfoMAVKRk",
        "outputId": "372d84f5-5334-4b27-f33b-f05ade21326c"
      },
      "execution_count": 46,
      "outputs": [
        {
          "output_type": "stream",
          "name": "stdout",
          "text": [
            "[[1.0 0.0 0.0 34.0 1142.3076923076924]\n",
            " [1.0 0.0 0.0 31.0 1500.0]\n",
            " [1.0 0.0 0.0 39.0 900.0]\n",
            " [0.0 1.0 0.0 38.0 1100.0]\n",
            " [0.0 1.0 0.0 30.0 1300.0]\n",
            " [0.0 1.0 0.0 34.57142857142857 1000.0]\n",
            " [0.0 0.0 1.0 36.0 1400.0]\n",
            " [0.0 0.0 1.0 33.0 800.0]\n",
            " [0.0 0.0 1.0 35.0 1000.0]\n",
            " [1.0 0.0 0.0 40.0 1250.0]\n",
            " [1.0 0.0 0.0 35.0 950.0]\n",
            " [1.0 0.0 0.0 37.0 1050.0]\n",
            " [0.0 1.0 0.0 30.0 1150.0]\n",
            " [0.0 1.0 0.0 32.0 1142.3076923076924]\n",
            " [0.0 1.0 0.0 34.0 1450.0]]\n"
          ]
        }
      ]
    },
    {
      "cell_type": "code",
      "source": [
        "from sklearn.preprocessing import LabelEncoder\n",
        "le = LabelEncoder()\n",
        "y = le.fit_transform(y)"
      ],
      "metadata": {
        "id": "_KY6PEICWCq8"
      },
      "execution_count": 47,
      "outputs": []
    },
    {
      "cell_type": "code",
      "source": [
        "print(y)"
      ],
      "metadata": {
        "colab": {
          "base_uri": "https://localhost:8080/"
        },
        "id": "Z3iCZAbGWpFF",
        "outputId": "4621c7b5-bf92-4cfc-e3c6-1d0b3c642d2a"
      },
      "execution_count": 48,
      "outputs": [
        {
          "output_type": "stream",
          "name": "stdout",
          "text": [
            "[1 1 1 0 1 0 1 1 0 1 1 0 1 0 1]\n"
          ]
        }
      ]
    },
    {
      "cell_type": "markdown",
      "source": [
        "splitting the dataset into the training set and test set"
      ],
      "metadata": {
        "id": "wjuP12eOcd1y"
      }
    },
    {
      "cell_type": "code",
      "source": [
        "from sklearn.model_selection import train_test_split\n",
        "X_train, X_test, y_train, y_test = train_test_split(X, y, test_size = 0.2, random_state = 1)"
      ],
      "metadata": {
        "id": "YDCUKgieddDk"
      },
      "execution_count": 50,
      "outputs": []
    },
    {
      "cell_type": "code",
      "source": [
        "print(X_train)"
      ],
      "metadata": {
        "colab": {
          "base_uri": "https://localhost:8080/"
        },
        "id": "8NxwUNwnep_Z",
        "outputId": "276980c5-4a4c-4b52-b87a-7a0b2e31d921"
      },
      "execution_count": 52,
      "outputs": [
        {
          "output_type": "stream",
          "name": "stdout",
          "text": [
            "[[1.0 0.0 0.0 39.0 900.0]\n",
            " [1.0 0.0 0.0 35.0 950.0]\n",
            " [0.0 1.0 0.0 30.0 1300.0]\n",
            " [1.0 0.0 0.0 31.0 1500.0]\n",
            " [0.0 1.0 0.0 32.0 1142.3076923076924]\n",
            " [1.0 0.0 0.0 34.0 1142.3076923076924]\n",
            " [0.0 1.0 0.0 34.0 1450.0]\n",
            " [1.0 0.0 0.0 40.0 1250.0]\n",
            " [0.0 0.0 1.0 35.0 1000.0]\n",
            " [0.0 1.0 0.0 30.0 1150.0]\n",
            " [1.0 0.0 0.0 37.0 1050.0]\n",
            " [0.0 1.0 0.0 34.57142857142857 1000.0]]\n"
          ]
        }
      ]
    },
    {
      "cell_type": "code",
      "source": [
        "print(X_test)"
      ],
      "metadata": {
        "colab": {
          "base_uri": "https://localhost:8080/"
        },
        "id": "jnQHTmCJe2DX",
        "outputId": "909fffd0-0d33-4316-c337-457a06616ef5"
      },
      "execution_count": 53,
      "outputs": [
        {
          "output_type": "stream",
          "name": "stdout",
          "text": [
            "[[0.0 1.0 0.0 38.0 1100.0]\n",
            " [0.0 0.0 1.0 33.0 800.0]\n",
            " [0.0 0.0 1.0 36.0 1400.0]]\n"
          ]
        }
      ]
    },
    {
      "cell_type": "code",
      "source": [
        "print(y_train)"
      ],
      "metadata": {
        "colab": {
          "base_uri": "https://localhost:8080/"
        },
        "id": "x0cBJ009e3Ip",
        "outputId": "db2bb51e-b459-44e5-8e59-e115c4331d5a"
      },
      "execution_count": 54,
      "outputs": [
        {
          "output_type": "stream",
          "name": "stdout",
          "text": [
            "[1 1 1 1 0 1 1 1 0 1 0 0]\n"
          ]
        }
      ]
    },
    {
      "cell_type": "code",
      "source": [
        "print(y_test)"
      ],
      "metadata": {
        "colab": {
          "base_uri": "https://localhost:8080/"
        },
        "id": "IDlNCsMoe44b",
        "outputId": "840d3f28-b510-4cfa-8444-c527f29f3ab5"
      },
      "execution_count": 55,
      "outputs": [
        {
          "output_type": "stream",
          "name": "stdout",
          "text": [
            "[0 1 1]\n"
          ]
        }
      ]
    },
    {
      "cell_type": "markdown",
      "source": [
        "FEATURE SCALING"
      ],
      "metadata": {
        "id": "ROadP2vTjYqe"
      }
    },
    {
      "cell_type": "markdown",
      "source": [],
      "metadata": {
        "id": "k27oz97hjcpw"
      }
    },
    {
      "cell_type": "markdown",
      "source": [],
      "metadata": {
        "id": "1r7-Rw4EmWGG"
      }
    },
    {
      "cell_type": "code",
      "source": [
        "from sklearn.preprocessing import StandardScaler\n",
        "sc = StandardScaler()\n",
        "X_train[:, 3:] = sc.fit_transform(X_train[:, 3:])\n",
        "X_test[:, 3:] = sc.fit_transform(X_test[:, 3:])"
      ],
      "metadata": {
        "id": "LrtHivYlmY0D"
      },
      "execution_count": 56,
      "outputs": []
    },
    {
      "cell_type": "code",
      "source": [
        "print(X_train)"
      ],
      "metadata": {
        "colab": {
          "base_uri": "https://localhost:8080/"
        },
        "id": "J_4Xhj4SmZQt",
        "outputId": "2e913da4-dc4d-4309-8624-90cbcd0c26cb"
      },
      "execution_count": 57,
      "outputs": [
        {
          "output_type": "stream",
          "name": "stdout",
          "text": [
            "[[1.0 0.0 0.0 1.5107289068318148 -1.3807660946485933]\n",
            " [1.0 0.0 0.0 0.22565317848880373 -1.1077629124367043]\n",
            " [0.0 1.0 0.0 -1.38069148193996 0.8032593630465193]\n",
            " [1.0 0.0 0.0 -1.0594225498542074 1.8952720918940757]\n",
            " [0.0 1.0 0.0 -0.7381536177684546 -0.057750673160207405]\n",
            " [1.0 0.0 0.0 -0.09561575359694903 -0.057750673160207405]\n",
            " [0.0 1.0 0.0 -0.09561575359694903 1.6222689096821865]\n",
            " [1.0 0.0 0.0 1.8319978389175675 0.5302561808346302]\n",
            " [0.0 0.0 1.0 0.22565317848880373 -0.8347597302248152]\n",
            " [0.0 1.0 0.0 -1.38069148193996 -0.015750183589147926]\n",
            " [1.0 0.0 0.0 0.8681910426603092 -0.5617565480129261]\n",
            " [0.0 1.0 0.0 0.08796649330919476 -0.8347597302248152]]\n"
          ]
        }
      ]
    },
    {
      "cell_type": "code",
      "source": [
        "print(X_test)"
      ],
      "metadata": {
        "colab": {
          "base_uri": "https://localhost:8080/"
        },
        "id": "6Nh969kzma_h",
        "outputId": "8de9609b-9c09-4b2d-9cb0-6b1d948af4d5"
      },
      "execution_count": 58,
      "outputs": [
        {
          "output_type": "stream",
          "name": "stdout",
          "text": [
            "[[0.0 1.0 0.0 1.1355499479153388 0.0]\n",
            " [0.0 0.0 1.0 -1.297771369046099 -1.224744871391589]\n",
            " [0.0 0.0 1.0 0.16222142113076368 1.224744871391589]]\n"
          ]
        }
      ]
    }
  ],
  "metadata": {
    "colab": {
      "provenance": []
    },
    "kernelspec": {
      "display_name": "Python 3",
      "name": "python3"
    }
  },
  "nbformat": 4,
  "nbformat_minor": 0
}